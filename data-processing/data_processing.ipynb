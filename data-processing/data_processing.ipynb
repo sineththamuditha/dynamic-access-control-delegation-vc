{
 "cells": [
  {
   "cell_type": "markdown",
   "metadata": {},
   "source": [
    "# Processing Original And Cleaned Data"
   ]
  },
  {
   "cell_type": "markdown",
   "metadata": {},
   "source": [
    "### Import Both Datasets"
   ]
  },
  {
   "cell_type": "code",
   "execution_count": 5,
   "metadata": {},
   "outputs": [],
   "source": [
    "import pandas as pd\n",
    "\n",
    "datasets = ['supervisorStudent', 'supervisorStudentProtocol', 'doctorNurse', 'doctorNurseProtocol', 'employeeProtocol']\n",
    "\n",
    "# Import Files\n",
    "original_dfs = {dataset: pd.read_csv(f\"./collected-data/{dataset}.csv\") for dataset in datasets}\n",
    "\n",
    "cleaned_dfs = {dataset: pd.read_csv(f\"./cleaned-data/{dataset}-cleaned.csv\") for dataset in datasets}"
   ]
  },
  {
   "cell_type": "markdown",
   "metadata": {},
   "source": [
    "### Percentage in Dataset Reduction"
   ]
  },
  {
   "cell_type": "code",
   "execution_count": 6,
   "metadata": {},
   "outputs": [
    {
     "name": "stdout",
     "output_type": "stream",
     "text": [
      "supervisorStudent: 101 → 70 (30.69% removed)\n",
      "supervisorStudentProtocol: 101 → 70 (30.69% removed)\n",
      "doctorNurse: 101 → 70 (30.69% removed)\n",
      "doctorNurseProtocol: 101 → 70 (30.69% removed)\n",
      "employeeProtocol: 101 → 70 (30.69% removed)\n"
     ]
    }
   ],
   "source": [
    "for dataset in datasets:\n",
    "    original_size = len(original_dfs[dataset])\n",
    "    cleaned_size = len(cleaned_dfs[dataset])\n",
    "    reduction = ((original_size - cleaned_size) / original_size) * 100\n",
    "    print(f\"{dataset}: {original_size} → {cleaned_size} ({reduction:.2f}% removed)\")"
   ]
  },
  {
   "cell_type": "markdown",
   "metadata": {},
   "source": [
    "### Calculate Average Time Taken for Delegation, Verification and Total"
   ]
  },
  {
   "cell_type": "code",
   "execution_count": 7,
   "metadata": {},
   "outputs": [],
   "source": [
    "delegationTimeTaken = []\n",
    "verificationTimeTaken = []\n",
    "totalTimeTaken = []\n",
    "\n",
    "for dataset in datasets:\n",
    "    delegationTimeTaken.append(\n",
    "        cleaned_dfs[dataset]['Delegation Time Taken'].mean())\n",
    "    verificationTimeTaken.append(\n",
    "        cleaned_dfs[dataset]['Verification Time Taken'].mean())\n",
    "    totalTimeTaken.append(cleaned_dfs[dataset]['Total Time Taken'].mean())\n",
    "\n",
    "summary_df = pd.DataFrame({\n",
    "    \"Use Case\": ['Supervisor Student', 'Supervisor Student Protocol', 'Doctor Nurse', 'Doctor Nurse Protocol', 'Employee Protocol'],\n",
    "    \"Delegation Time Taken\": delegationTimeTaken,\n",
    "    \"Verification Time Taken\": verificationTimeTaken,\n",
    "    \"Total Time Taken\": totalTimeTaken\n",
    "})\n",
    "\n",
    "summary_df.to_csv('./summary-cleaned.csv')"
   ]
  },
  {
   "cell_type": "code",
   "execution_count": 8,
   "metadata": {},
   "outputs": [],
   "source": [
    "delegationTimeTaken = []\n",
    "verificationTimeTaken = []\n",
    "totalTimeTaken = []\n",
    "\n",
    "for dataset in datasets:\n",
    "    delegationTimeTaken.append(\n",
    "        original_dfs[dataset]['Delegation Time Taken'].mean())\n",
    "    verificationTimeTaken.append(\n",
    "        original_dfs[dataset]['Verification Time Taken'].mean())\n",
    "    totalTimeTaken.append(original_dfs[dataset]['Total Time Taken'].mean())\n",
    "\n",
    "summary_df = pd.DataFrame({\n",
    "    \"Use Case\": ['Supervisor Student', 'Supervisor Student Protocol', 'Doctor Nurse', 'Doctor Nurse Protocol', 'Employee Protocol'],\n",
    "    \"Delegation Time Taken\": delegationTimeTaken,\n",
    "    \"Verification Time Taken\": verificationTimeTaken,\n",
    "    \"Total Time Taken\": totalTimeTaken\n",
    "})\n",
    "\n",
    "summary_df.to_csv('./summary.csv')"
   ]
  },
  {
   "cell_type": "code",
   "execution_count": null,
   "metadata": {},
   "outputs": [],
   "source": []
  }
 ],
 "metadata": {
  "kernelspec": {
   "display_name": "data_analytics",
   "language": "python",
   "name": "python3"
  },
  "language_info": {
   "codemirror_mode": {
    "name": "ipython",
    "version": 3
   },
   "file_extension": ".py",
   "mimetype": "text/x-python",
   "name": "python",
   "nbconvert_exporter": "python",
   "pygments_lexer": "ipython3",
   "version": "3.11.9"
  }
 },
 "nbformat": 4,
 "nbformat_minor": 2
}
