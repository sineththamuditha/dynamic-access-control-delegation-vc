{
 "cells": [
  {
   "cell_type": "markdown",
   "metadata": {},
   "source": [
    "# Script for Removing Outliers"
   ]
  },
  {
   "cell_type": "markdown",
   "metadata": {},
   "source": [
    "### Load Datasets"
   ]
  },
  {
   "cell_type": "code",
   "execution_count": 1,
   "metadata": {},
   "outputs": [],
   "source": [
    "import pandas as pd\n",
    "\n",
    "datasets = ['Ed25519', 'Secp256k1']\n",
    "\n",
    "# Import Files\n",
    "dfs = {dataset: pd.read_csv(f\"./collected-data/{dataset}.csv\") for dataset in datasets}"
   ]
  },
  {
   "cell_type": "markdown",
   "metadata": {},
   "source": [
    "### Remove Outliers"
   ]
  },
  {
   "cell_type": "code",
   "execution_count": 2,
   "metadata": {},
   "outputs": [],
   "source": [
    "# Remove data outside from inter quatile range\n",
    "\n",
    "for dataset in datasets:\n",
    "    columns = ['Delegation Time Taken', 'Delegation Memory Usage', 'Verification Time Taken', 'Verification Memory Usage', 'Retrieval Time Taken', 'Retrieval Memory Usage']\n",
    "    for column in columns:\n",
    "        Q1 = dfs[dataset][column].quantile(0.25)\n",
    "        Q3 = dfs[dataset][column].quantile(0.75)\n",
    "        IQR = Q3 - Q1\n",
    "\n",
    "        lower_bound = Q1 - 1.5 * IQR\n",
    "        upper_bound = Q3 + 1.5 * IQR\n",
    "\n",
    "        dfs[dataset] = dfs[dataset][(dfs[dataset][column] >= lower_bound) & (dfs[dataset][column] <= upper_bound)]"
   ]
  },
  {
   "cell_type": "markdown",
   "metadata": {},
   "source": [
    "### Truncate All Dataset Size to Match Lowest Size"
   ]
  },
  {
   "cell_type": "code",
   "execution_count": 3,
   "metadata": {},
   "outputs": [],
   "source": [
    "min_size = min(len(df) for df in dfs.values())\n",
    "\n",
    "for dataset in datasets:\n",
    "    dfs[dataset] = dfs[dataset].iloc[:min_size]"
   ]
  },
  {
   "cell_type": "markdown",
   "metadata": {},
   "source": [
    "### Save Cleaned Datasets"
   ]
  },
  {
   "cell_type": "code",
   "execution_count": 4,
   "metadata": {},
   "outputs": [],
   "source": [
    "for dataset in datasets:\n",
    "    dfs[dataset].to_csv(f\"./cleaned-data/{dataset}-cleaned.csv\")"
   ]
  },
  {
   "cell_type": "code",
   "execution_count": null,
   "metadata": {},
   "outputs": [],
   "source": []
  }
 ],
 "metadata": {
  "kernelspec": {
   "display_name": "data_analytics",
   "language": "python",
   "name": "python3"
  },
  "language_info": {
   "codemirror_mode": {
    "name": "ipython",
    "version": 3
   },
   "file_extension": ".py",
   "mimetype": "text/x-python",
   "name": "python",
   "nbconvert_exporter": "python",
   "pygments_lexer": "ipython3",
   "version": "3.11.9"
  }
 },
 "nbformat": 4,
 "nbformat_minor": 2
}
