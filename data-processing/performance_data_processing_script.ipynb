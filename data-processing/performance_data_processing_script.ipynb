{
 "cells": [
  {
   "cell_type": "markdown",
   "metadata": {},
   "source": [
    "# Processing Original And Cleaned Data"
   ]
  },
  {
   "cell_type": "markdown",
   "metadata": {},
   "source": [
    "### Import Both Datasets"
   ]
  },
  {
   "cell_type": "code",
   "execution_count": 2,
   "metadata": {},
   "outputs": [],
   "source": [
    "import pandas as pd\n",
    "\n",
    "datasets = ['Ed25519', 'Secp256k1']\n",
    "\n",
    "# Import Files\n",
    "original_dfs = {dataset: pd.read_csv(f\"./collected-data/{dataset}.csv\") for dataset in datasets}\n",
    "\n",
    "cleaned_dfs = {dataset: pd.read_csv(f\"./cleaned-data/{dataset}-cleaned.csv\") for dataset in datasets}"
   ]
  },
  {
   "cell_type": "markdown",
   "metadata": {},
   "source": [
    "### Percentage in Dataset Reduction"
   ]
  },
  {
   "cell_type": "code",
   "execution_count": 4,
   "metadata": {},
   "outputs": [
    {
     "name": "stdout",
     "output_type": "stream",
     "text": [
      "Ed25519: 101 → 73 (27.72% removed)\n",
      "Secp256k1: 101 → 73 (27.72% removed)\n"
     ]
    }
   ],
   "source": [
    "for dataset in datasets:\n",
    "    original_size = len(original_dfs[dataset])\n",
    "    cleaned_size = len(cleaned_dfs[dataset])\n",
    "    reduction = ((original_size - cleaned_size) / original_size) * 100\n",
    "    print(f\"{dataset}: {original_size} → {cleaned_size} ({reduction:.2f}% removed)\")"
   ]
  },
  {
   "cell_type": "code",
   "execution_count": null,
   "metadata": {},
   "outputs": [],
   "source": [
    "delegationTimeTaken = []\n",
    "delegationMemoryUsage = []\n",
    "verificationTimeTaken = []\n",
    "verificationMemoryUsage = []\n",
    "retrievalTimeTaken = []\n",
    "retrievalMemoryUsage = []\n",
    "\n",
    "for dataset in datasets:\n",
    "    delegationTimeTaken.append(\n",
    "        cleaned_dfs[dataset]['Delegation Time Taken'].mean())\n",
    "    delegationMemoryUsage.append(\n",
    "        cleaned_dfs[dataset]['Delegation Memory Usage'].mean())\n",
    "    verificationTimeTaken.append(\n",
    "        cleaned_dfs[dataset]['Verification Time Taken'].mean())\n",
    "    verificationMemoryUsage.append(\n",
    "        cleaned_dfs[dataset]['Verification Memory Usage'].mean())\n",
    "    retrievalTimeTaken.append(cleaned_dfs[dataset]['Retrieval Time Taken'].mean())\n",
    "    retrievalMemoryUsage.append(cleaned_dfs[dataset]['Retrieval Memory Usage'].mean())\n",
    "\n",
    "summary_df = pd.DataFrame({\n",
    "    \"Algorithm\": ['Ed25519', 'Secp256k1'],\n",
    "    \"Delegation Time Taken\": delegationTimeTaken,\n",
    "    \"Delegation Memory Usage\": delegationMemoryUsage,\n",
    "    \"Verification Time Taken\": verificationTimeTaken,\n",
    "    \"Verification Memory Usage\": verificationMemoryUsage,\n",
    "    \"Retrieval Time Taken\": retrievalTimeTaken,\n",
    "    \"Retrieval Memory Usage\": retrievalMemoryUsage\n",
    "})\n",
    "\n",
    "summary_df.to_csv('./performance-summary-cleaned.csv')"
   ]
  },
  {
   "cell_type": "markdown",
   "metadata": {},
   "source": []
  },
  {
   "cell_type": "code",
   "execution_count": 6,
   "metadata": {},
   "outputs": [],
   "source": [
    "delegationTimeTaken = []\n",
    "delegationMemoryUsage = []\n",
    "verificationTimeTaken = []\n",
    "verificationMemoryUsage = []\n",
    "retrievalTimeTaken = []\n",
    "retrievalMemoryUsage = []\n",
    "\n",
    "for dataset in datasets:\n",
    "    delegationTimeTaken.append(\n",
    "        original_dfs[dataset]['Delegation Time Taken'].mean())\n",
    "    delegationMemoryUsage.append(\n",
    "        original_dfs[dataset]['Delegation Memory Usage'].mean())\n",
    "    verificationTimeTaken.append(\n",
    "        original_dfs[dataset]['Verification Time Taken'].mean())\n",
    "    verificationMemoryUsage.append(\n",
    "        original_dfs[dataset]['Verification Memory Usage'].mean())\n",
    "    retrievalTimeTaken.append(original_dfs[dataset]['Retrieval Time Taken'].mean())\n",
    "    retrievalMemoryUsage.append(original_dfs[dataset]['Retrieval Memory Usage'].mean())\n",
    "\n",
    "summary_df = pd.DataFrame({\n",
    "    \"Algorithm\": ['Ed25519', 'Secp256k1'],\n",
    "    \"Delegation Time Taken\": delegationTimeTaken,\n",
    "    \"Delegation Memory Usage\": delegationMemoryUsage,\n",
    "    \"Verification Time Taken\": verificationTimeTaken,\n",
    "    \"Verification Memory Usage\": verificationMemoryUsage,\n",
    "    \"Retrieval Time Taken\": retrievalTimeTaken,\n",
    "    \"Retrieval Memory Usage\": retrievalMemoryUsage\n",
    "})\n",
    "\n",
    "summary_df.to_csv('./performance-summary.csv')"
   ]
  },
  {
   "cell_type": "code",
   "execution_count": null,
   "metadata": {},
   "outputs": [],
   "source": []
  }
 ],
 "metadata": {
  "kernelspec": {
   "display_name": "data_analytics",
   "language": "python",
   "name": "python3"
  },
  "language_info": {
   "codemirror_mode": {
    "name": "ipython",
    "version": 3
   },
   "file_extension": ".py",
   "mimetype": "text/x-python",
   "name": "python",
   "nbconvert_exporter": "python",
   "pygments_lexer": "ipython3",
   "version": "3.11.9"
  }
 },
 "nbformat": 4,
 "nbformat_minor": 2
}
